{
 "cells": [
  {
   "cell_type": "markdown",
   "id": "3ac202b5",
   "metadata": {},
   "source": [
    "# WPP to count the number of even and odd numbers from a series of numbers\n",
    " # Sample input = (1,2,3,4,5,6,7,8,9)\n",
    "   # Output = Number of even number = 4\n",
    "#                    Number of odd number = 5\n"
   ]
  },
  {
   "cell_type": "code",
   "execution_count": 1,
   "id": "c6ca3c43",
   "metadata": {},
   "outputs": [
    {
     "name": "stdout",
     "output_type": "stream",
     "text": [
      "(1, 2, 3, 4, 5, 6, 7, 8, 9)\n",
      "Number of even number =  4\n",
      "Number of odd number =  5\n"
     ]
    }
   ],
   "source": [
    "n = (1,2,3,4,5,6,7,8,9)\n",
    "even = 0\n",
    "odd = 0\n",
    "for i in n:\n",
    "    if (i%2==0):\n",
    "        even+=1\n",
    "    else:\n",
    "        odd+=1\n",
    "print(n)\n",
    "print('Number of even number = ',even)\n",
    "print('Number of odd number = ',odd)"
   ]
  },
  {
   "cell_type": "code",
   "execution_count": null,
   "id": "2b59dda5",
   "metadata": {},
   "outputs": [],
   "source": []
  }
 ],
 "metadata": {
  "kernelspec": {
   "display_name": "Python 3 (ipykernel)",
   "language": "python",
   "name": "python3"
  },
  "language_info": {
   "codemirror_mode": {
    "name": "ipython",
    "version": 3
   },
   "file_extension": ".py",
   "mimetype": "text/x-python",
   "name": "python",
   "nbconvert_exporter": "python",
   "pygments_lexer": "ipython3",
   "version": "3.10.0"
  }
 },
 "nbformat": 4,
 "nbformat_minor": 5
}
